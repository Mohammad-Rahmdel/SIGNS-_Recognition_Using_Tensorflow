{
  "nbformat": 4,
  "nbformat_minor": 0,
  "metadata": {
    "colab": {
      "name": "SIGNS_Recognition with Regularization .ipynb",
      "version": "0.3.2",
      "provenance": [],
      "collapsed_sections": [],
      "include_colab_link": true
    },
    "kernelspec": {
      "name": "python3",
      "display_name": "Python 3"
    },
    "accelerator": "GPU"
  },
  "cells": [
    {
      "cell_type": "markdown",
      "metadata": {
        "id": "view-in-github",
        "colab_type": "text"
      },
      "source": [
        "<a href=\"https://colab.research.google.com/github/Mohammad-Rahmdel/SIGNS_Recognition_Using_Tensorflow/blob/master/SIGNS_Recognition_with_Regularization_.ipynb\" target=\"_parent\"><img src=\"https://colab.research.google.com/assets/colab-badge.svg\" alt=\"Open In Colab\"/></a>"
      ]
    },
    {
      "cell_type": "code",
      "metadata": {
        "id": "nE0JVk_h3W3S",
        "colab_type": "code",
        "outputId": "3a0e79cb-ce04-4904-da5e-a96be8be0375",
        "colab": {
          "base_uri": "https://localhost:8080/",
          "height": 368
        }
      },
      "source": [
        "!pip install PyDrive"
      ],
      "execution_count": 2,
      "outputs": [
        {
          "output_type": "stream",
          "text": [
            "Collecting PyDrive\n",
            "\u001b[?25l  Downloading https://files.pythonhosted.org/packages/52/e0/0e64788e5dd58ce2d6934549676243dc69d982f198524be9b99e9c2a4fd5/PyDrive-1.3.1.tar.gz (987kB)\n",
            "\u001b[K     |████████████████████████████████| 993kB 7.0MB/s \n",
            "\u001b[?25hRequirement already satisfied: google-api-python-client>=1.2 in /usr/local/lib/python3.6/dist-packages (from PyDrive) (1.6.7)\n",
            "Requirement already satisfied: oauth2client>=4.0.0 in /usr/local/lib/python3.6/dist-packages (from PyDrive) (4.1.3)\n",
            "Requirement already satisfied: PyYAML>=3.0 in /usr/local/lib/python3.6/dist-packages (from PyDrive) (3.13)\n",
            "Requirement already satisfied: six<2dev,>=1.6.1 in /usr/local/lib/python3.6/dist-packages (from google-api-python-client>=1.2->PyDrive) (1.12.0)\n",
            "Requirement already satisfied: uritemplate<4dev,>=3.0.0 in /usr/local/lib/python3.6/dist-packages (from google-api-python-client>=1.2->PyDrive) (3.0.0)\n",
            "Requirement already satisfied: httplib2<1dev,>=0.9.2 in /usr/local/lib/python3.6/dist-packages (from google-api-python-client>=1.2->PyDrive) (0.11.3)\n",
            "Requirement already satisfied: rsa>=3.1.4 in /usr/local/lib/python3.6/dist-packages (from oauth2client>=4.0.0->PyDrive) (4.0)\n",
            "Requirement already satisfied: pyasn1>=0.1.7 in /usr/local/lib/python3.6/dist-packages (from oauth2client>=4.0.0->PyDrive) (0.4.5)\n",
            "Requirement already satisfied: pyasn1-modules>=0.0.5 in /usr/local/lib/python3.6/dist-packages (from oauth2client>=4.0.0->PyDrive) (0.2.5)\n",
            "Building wheels for collected packages: PyDrive\n",
            "  Building wheel for PyDrive (setup.py) ... \u001b[?25l\u001b[?25hdone\n",
            "  Stored in directory: /root/.cache/pip/wheels/fa/d2/9a/d3b6b506c2da98289e5d417215ce34b696db856643bad779f4\n",
            "Successfully built PyDrive\n",
            "Installing collected packages: PyDrive\n",
            "Successfully installed PyDrive-1.3.1\n"
          ],
          "name": "stdout"
        }
      ]
    },
    {
      "cell_type": "code",
      "metadata": {
        "id": "Unv-ZLSO5VJ9",
        "colab_type": "code",
        "colab": {}
      },
      "source": [
        "import os\n",
        "from pydrive.auth import GoogleAuth\n",
        "from pydrive.drive import GoogleDrive\n",
        "from google.colab import auth\n",
        "from oauth2client.client import GoogleCredentials"
      ],
      "execution_count": 0,
      "outputs": []
    },
    {
      "cell_type": "code",
      "metadata": {
        "id": "6I8u7f585aa2",
        "colab_type": "code",
        "colab": {}
      },
      "source": [
        "auth.authenticate_user()\n",
        "gauth = GoogleAuth()\n",
        "gauth.credentials = GoogleCredentials.get_application_default()\n",
        "drive = GoogleDrive(gauth)"
      ],
      "execution_count": 0,
      "outputs": []
    },
    {
      "cell_type": "code",
      "metadata": {
        "id": "LwmgXrQd5xZ8",
        "colab_type": "code",
        "colab": {}
      },
      "source": [
        "download = drive.CreateFile({'id': '1UOzbDqDkxNY0Sa9tKxalxp8kWIHxSOKL'})\n",
        "download.GetContentFile('tf_utils.py')\n"
      ],
      "execution_count": 0,
      "outputs": []
    },
    {
      "cell_type": "code",
      "metadata": {
        "id": "axnjJxnm65SN",
        "colab_type": "code",
        "colab": {}
      },
      "source": [
        "!mkdir datasets \n",
        "\n",
        "download = drive.CreateFile({'id': '1fCmaeQyBWf9RFsaGdRYiAG-BypTzN8Nu'})\n",
        "download.GetContentFile('datasets/test_signs.h5')\n",
        "\n",
        "download = drive.CreateFile({'id': '1nU3KQ7fdTcfHNgY8jk9xbhqYlxDcWiiu'})\n",
        "download.GetContentFile('datasets/train_signs.h5')\n"
      ],
      "execution_count": 0,
      "outputs": []
    },
    {
      "cell_type": "code",
      "metadata": {
        "id": "sNjtCMpJ8O0C",
        "colab_type": "code",
        "outputId": "fdf85375-b44f-42aa-9742-4d052a8711c8",
        "colab": {
          "base_uri": "https://localhost:8080/",
          "height": 237
        }
      },
      "source": [
        "import math\n",
        "import numpy as np\n",
        "import h5py\n",
        "import matplotlib.pyplot as plt\n",
        "import tensorflow as tf\n",
        "from tensorflow.python.framework import ops\n",
        "from tf_utils import load_dataset, random_mini_batches, convert_to_one_hot, predict\n",
        "\n",
        "import os\n",
        "os.environ['TF_CPP_MIN_LOG_LEVEL'] = '2'  # ignoring warnings\n",
        "\n",
        "# Problem statement: SIGNS Dataset \n",
        "\n",
        "X_train_orig, Y_train_orig, X_test_orig, Y_test_orig, classes = load_dataset()\n",
        "# Flattening\n",
        "X_train_flatten = X_train_orig.reshape(X_train_orig.shape[0], -1).T\n",
        "X_test_flatten = X_test_orig.reshape(X_test_orig.shape[0], -1).T\n",
        "# Normalizing\n",
        "X_train = X_train_flatten/255.\n",
        "X_test = X_test_flatten/255.\n",
        "# Converting labels to one hot matrices\n",
        "Y_train = convert_to_one_hot(Y_train_orig, 6)\n",
        "Y_test = convert_to_one_hot(Y_test_orig, 6)\n",
        "\n",
        "\n",
        "\"\"\"\n",
        "Implements a three-layer tensorflow neural network: LINEAR->RELU->LINEAR->RELU->LINEAR->SOFTMAX.\n",
        "\n",
        "Input(12288) -> Relu(number of hiddent units = 25) -> Relu(number of hiddent units = 12) -> \n",
        "Relu(number of output units = c = 6) \n",
        "b1 = (25, 1)\n",
        "W1 = (25, 12288)\n",
        "b2 = (12, 1)\n",
        "W1 = (12, 25)\n",
        "b3 = (6, 1)\n",
        "W3 = (6, 12)\n",
        "\n",
        "\n",
        "\n",
        "Arguments:\n",
        "X_train (input size = 12288, number of training examples = 1080)\n",
        "Y_train (output size = 6, number of training examples = 1080)\n",
        "X_test (12288, 120)\n",
        "Y_test (6, 120)\n",
        "\"\"\"\n",
        "\n",
        "learning_rate = 0.0001\n",
        "num_epochs = 1000\n",
        "minibatch_size = 32\n",
        "print_cost = True\n",
        "keep_prob = 1\n",
        "lambd = 0\n",
        "    \n",
        "ops.reset_default_graph()                         # to be able to rerun the model without overwriting tf variables\n",
        "tf.set_random_seed(1)                             # to keep consistent results\n",
        "seed = 3                    \n",
        "\n",
        "m = Y_train.shape[1]\n",
        "n_x = X_train.shape[0]\n",
        "n_y = Y_train.shape[0]\n",
        "\n",
        "\n",
        "\n",
        "X = tf.placeholder(shape=[n_x, None] ,dtype=tf.float32, name='X')\n",
        "Y = tf.placeholder(shape=[n_y, None] ,dtype=tf.float32, name='Y')\n",
        "\n",
        "tf.set_random_seed(1)                  \n",
        "b1 = tf.get_variable(\"b1\", [25,1], initializer = tf.zeros_initializer())\n",
        "b2 = tf.get_variable(\"b2\", [12,1], initializer = tf.zeros_initializer())\n",
        "b3 = tf.get_variable(\"b3\", [6,1], initializer = tf.zeros_initializer())\n",
        "\n",
        "W1 = tf.get_variable(\"W1\", [25,12288], initializer = tf.contrib.layers.xavier_initializer(seed = 1))\n",
        "W2 = tf.get_variable(\"W2\", [12,25], initializer = tf.contrib.layers.xavier_initializer(seed = 1))\n",
        "W3 = tf.get_variable(\"W3\", [6,12], initializer = tf.contrib.layers.xavier_initializer(seed = 1))\n",
        "\n",
        "\n",
        "Z1 = tf.add(tf.matmul(W1, X) , b1)\n",
        "A1 = tf.nn.relu(Z1)\n",
        "A1 = tf.nn.dropout(A1, keep_prob)\n",
        "Z2 = tf.add(tf.matmul(W2, A1) , b2)\n",
        "A2 = tf.nn.relu(Z2)\n",
        "A2 = tf.nn.dropout(A2, keep_prob)\n",
        "Z3 = tf.add(tf.matmul(W3, A2) , b3)\n",
        "\n",
        "\n",
        "cost = tf.reduce_mean(tf.nn.softmax_cross_entropy_with_logits(logits = tf.transpose(Z3), labels = tf.transpose(Y) ) + \n",
        "    lambd * tf.nn.l2_loss(W1) +\n",
        "    lambd * tf.nn.l2_loss(W2) +\n",
        "    lambd * tf.nn.l2_loss(W3) )\n",
        "\n",
        "\n",
        "costs = [] \n",
        "optimizer = tf.train.AdamOptimizer(learning_rate=learning_rate).minimize(cost)\n",
        "init = tf.global_variables_initializer() # Initialize all the variables\n",
        "\n",
        "with tf.Session() as session:\n",
        "    session.run(init)\n",
        "    for i in range(num_epochs):\n",
        "        # seed = seed + 1\n",
        "        epoch_cost = 0.\n",
        "        minibatches = random_mini_batches(X_train, Y_train, minibatch_size, seed)\n",
        "        n_minibatches = np.floor(m / minibatch_size) # 1080 / 32 = 33.75\n",
        "        for minibatch in minibatches:\n",
        "            (minibatch_X, minibatch_Y) = minibatch\n",
        "            _ , minibatch_cost = session.run([optimizer, cost], feed_dict={X: minibatch_X, Y: minibatch_Y})\n",
        "            epoch_cost += minibatch_cost / n_minibatches\n",
        "\n",
        "        \n",
        "        if print_cost == True:\n",
        "            if i % 100 == 0:\n",
        "                print (\"Cost after epoch %i: %f\" % (i, epoch_cost))\n",
        "            if i % 5 == 0:\n",
        "                costs.append(epoch_cost)\n",
        "        \n",
        "    \n",
        "  \n",
        "    correct_prediction = tf.equal(tf.argmax(Z3), tf.argmax(Y))\n",
        "    accuracy = tf.reduce_mean(tf.cast(correct_prediction, \"float\"))\n",
        "    print (\"Train Accuracy:\", accuracy.eval({X: X_train, Y: Y_train}))\n",
        "    print (\"Test Accuracy:\", accuracy.eval({X: X_test, Y: Y_test}))"
      ],
      "execution_count": 13,
      "outputs": [
        {
          "output_type": "stream",
          "text": [
            "Cost after epoch 0: 1.867018\n",
            "Cost after epoch 100: 1.030552\n",
            "Cost after epoch 200: 0.724713\n",
            "Cost after epoch 300: 0.495561\n",
            "Cost after epoch 400: 0.336762\n",
            "Cost after epoch 500: 0.228522\n",
            "Cost after epoch 600: 0.173474\n",
            "Cost after epoch 700: 0.117510\n",
            "Cost after epoch 800: 0.089513\n",
            "Cost after epoch 900: 0.062096\n",
            "Train Accuracy: 0.9824074\n",
            "Test Accuracy: 0.81666666\n"
          ],
          "name": "stdout"
        }
      ]
    }
  ]
}